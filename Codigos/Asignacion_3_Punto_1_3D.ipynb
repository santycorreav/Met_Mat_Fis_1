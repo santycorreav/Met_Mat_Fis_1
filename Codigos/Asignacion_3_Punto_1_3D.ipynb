{
 "cells": [
  {
   "cell_type": "code",
   "execution_count": null,
   "id": "e4f8760d",
   "metadata": {},
   "outputs": [],
   "source": [
    "\"\"\"\n",
    "Asignación 3\n",
    "\n",
    "Métodos Matemáticos para Físicos I\n",
    "\n",
    "Profesor:\n",
    "Luis Nuñez\n",
    "\n",
    "Autores:\n",
    "Santiago Correa - 2182212 \n",
    "Jeicor Esneider Florez Pabón - 2231338\n",
    "Juan José Camacho Olmos - 2180800  \n",
    "\n",
    "\"\"\""
   ]
  },
  {
   "cell_type": "code",
   "execution_count": null,
   "id": "cefa5c4f",
   "metadata": {},
   "outputs": [],
   "source": [
    "import pandas as pd\n",
    "import matplotlib.pyplot as plt\n",
    "from mpl_toolkits.mplot3d import Axes3D\n",
    "import numpy as np"
   ]
  },
  {
   "cell_type": "code",
   "execution_count": null,
   "id": "f7bce0c8",
   "metadata": {},
   "outputs": [],
   "source": [
    "# Cargar los datos desde el archivo CSV con coma como delimitador\n",
    "data = pd.read_csv('datosmasas.csv', delimiter=',')"
   ]
  },
  {
   "cell_type": "code",
   "execution_count": null,
   "id": "0692ee90",
   "metadata": {},
   "outputs": [],
   "source": [
    "# Verificar las primeras filas del DataFrame para asegurarnos de que los datos se hayan cargado correctamente\n",
    "print(data.head())"
   ]
  },
  {
   "cell_type": "markdown",
   "id": "c66b9c76",
   "metadata": {},
   "source": [
    "----------------------------------------------------------------------------------------------------#"
   ]
  },
  {
   "cell_type": "code",
   "execution_count": null,
   "id": "a7cd985f",
   "metadata": {},
   "outputs": [],
   "source": [
    "# Calcular el centro de masa\n",
    "center_of_mass = data[['x', 'y', 'z']].mean().values"
   ]
  },
  {
   "cell_type": "code",
   "execution_count": null,
   "id": "92d77d30",
   "metadata": {},
   "outputs": [],
   "source": [
    "fig = plt.figure(figsize=(10, 8))\n",
    "ax = fig.add_subplot(111, projection='3d')"
   ]
  },
  {
   "cell_type": "code",
   "execution_count": null,
   "id": "c09ec0ae",
   "metadata": {
    "lines_to_next_cell": 2
   },
   "outputs": [],
   "source": [
    "# Graficar el centro de masa\n",
    "ax.scatter(center_of_mass[0], center_of_mass[1], center_of_mass[2], c='red', marker='o', s=200, label='Centro de Masa')"
   ]
  },
  {
   "cell_type": "code",
   "execution_count": null,
   "id": "39c3ee9b",
   "metadata": {},
   "outputs": [],
   "source": [
    "# Escalar los puntos en función de sus masas\n",
    "scaled_masses = data['masas'] * 10"
   ]
  },
  {
   "cell_type": "code",
   "execution_count": null,
   "id": "0ca9bdde",
   "metadata": {},
   "outputs": [],
   "source": [
    "# Graficar los puntos escalados con colores según sus masas\n",
    "sc = ax.scatter(data['x'], data['y'], data['z'], c=data['masas'], s=scaled_masses, cmap='viridis', alpha=0.6)"
   ]
  },
  {
   "cell_type": "code",
   "execution_count": null,
   "id": "a1cacdaf",
   "metadata": {},
   "outputs": [],
   "source": [
    "# Graficar el centro de masa\n",
    "ax.scatter(center_of_mass[0], center_of_mass[1], center_of_mass[2], c='red', marker='o', s=200, label='Centro de Masa')"
   ]
  },
  {
   "cell_type": "code",
   "execution_count": null,
   "id": "36a12df7",
   "metadata": {},
   "outputs": [],
   "source": [
    "# Etiquetas de los ejes\n",
    "ax.set_xlabel('X')\n",
    "ax.set_ylabel('Y')\n",
    "ax.set_zlabel('Z')"
   ]
  },
  {
   "cell_type": "code",
   "execution_count": null,
   "id": "5e118359",
   "metadata": {},
   "outputs": [],
   "source": [
    "# Título y leyenda\n",
    "ax.set_title('Distribución de Masas en el Espacio 3D')\n",
    "ax.legend()"
   ]
  },
  {
   "cell_type": "code",
   "execution_count": null,
   "id": "28ba1614",
   "metadata": {},
   "outputs": [],
   "source": [
    "# Mostrar la gráfica\n",
    "plt.colorbar(sc, label='Masas')\n",
    "plt.show()"
   ]
  },
  {
   "cell_type": "markdown",
   "id": "a251be04",
   "metadata": {},
   "source": [
    "----------------------------------------------------------------------------------------------------#"
   ]
  },
  {
   "cell_type": "code",
   "execution_count": null,
   "id": "a55bec87",
   "metadata": {},
   "outputs": [],
   "source": [
    "# Calcular la masa total del sistema\n",
    "masa_total = data['masas'].sum()"
   ]
  },
  {
   "cell_type": "code",
   "execution_count": null,
   "id": "c76ec273",
   "metadata": {},
   "outputs": [],
   "source": [
    "# Calcular el centro de masa en 3D\n",
    "centro_de_masa_3d = (data[['x', 'y', 'z']] * data['masas'].values[:, np.newaxis]).sum() / masa_total"
   ]
  },
  {
   "cell_type": "code",
   "execution_count": null,
   "id": "ccd4409c",
   "metadata": {
    "lines_to_next_cell": 1
   },
   "outputs": [],
   "source": [
    "print(\"Centro de Masa del sistema (coordenada x):\", centro_de_masa_3d.iloc[0])\n",
    "print(\"Centro de Masa del sistema (coordenada y):\", centro_de_masa_3d.iloc[1])\n",
    "print(\"Centro de Masa del sistema (coordenada z):\", centro_de_masa_3d.iloc[2])"
   ]
  },
  {
   "cell_type": "markdown",
   "id": "6e492ac3",
   "metadata": {},
   "source": [
    "----------------------------------------------------------------------------------------------------#"
   ]
  },
  {
   "cell_type": "code",
   "execution_count": null,
   "id": "1941b399",
   "metadata": {
    "lines_to_next_cell": 1
   },
   "outputs": [],
   "source": [
    "# Calcular el tensor de inercia en 3D\n",
    "def calcular_tensor_inercia_3d(data):\n",
    "    # Obtener las masas y las coordenadas\n",
    "    masas = data['masas']\n",
    "    coordenadas = data[['x', 'y', 'z']]\n",
    "\n",
    "    # Calcular el centro de masa\n",
    "    centro_de_masa = np.average(coordenadas, axis=0, weights=masas)\n",
    "\n",
    "    # Centrar las coordenadas en el centro de masa\n",
    "    coordenadas_centrales = coordenadas - centro_de_masa\n",
    "\n",
    "    # Calcular el tensor de inercia\n",
    "    tensor_inercia = np.zeros((3, 3))\n",
    "    for i in range(len(masas)):\n",
    "        tensor_inercia += masas[i] * np.outer(coordenadas_centrales.iloc[i], coordenadas_centrales.iloc[i])\n",
    "\n",
    "    return tensor_inercia"
   ]
  },
  {
   "cell_type": "code",
   "execution_count": null,
   "id": "1c51637e",
   "metadata": {},
   "outputs": [],
   "source": [
    "# Calcular el tensor de inercia en 3D\n",
    "tensor_inercia_3d = calcular_tensor_inercia_3d(data)\n",
    "print(\"Tensor de inercia en 3D:\")\n",
    "print(tensor_inercia_3d)"
   ]
  },
  {
   "cell_type": "markdown",
   "id": "35be7873",
   "metadata": {},
   "source": [
    "----------------------------------------------------------------------------------------------------#"
   ]
  },
  {
   "cell_type": "code",
   "execution_count": null,
   "id": "6f27669e",
   "metadata": {},
   "outputs": [],
   "source": [
    "# Calcular los autovectores y autovalores del tensor de inercia en 3D\n",
    "autovalores, autovectores = np.linalg.eig(tensor_inercia_3d)"
   ]
  },
  {
   "cell_type": "code",
   "execution_count": null,
   "id": "c80fd494",
   "metadata": {},
   "outputs": [],
   "source": [
    "# Imprimir los autovalores y autovectores\n",
    "print(\"Autovalores:\")\n",
    "print(autovalores)\n",
    "print(\"\\nAutovectores:\")\n",
    "print(autovectores)"
   ]
  },
  {
   "cell_type": "code",
   "execution_count": null,
   "id": "3afb5011",
   "metadata": {},
   "outputs": [],
   "source": [
    "# Definir los autovectores y autovalores\n",
    "autovectores = np.array([[0.70809967, 0.7061125, 0], [-0.7061125, 0.70809967, 0], [0, 0, 1]])\n",
    "autovalores = np.array([1.87284938e9, 4.93463569e7, 0])  # Agregar un autovalor nulo para la tercera dimensión"
   ]
  },
  {
   "cell_type": "code",
   "execution_count": null,
   "id": "a2b7d96f",
   "metadata": {},
   "outputs": [],
   "source": [
    "# Datos de los autovectores (puntos de inicio)\n",
    "x0 = 0\n",
    "y0 = 0\n",
    "z0 = 0"
   ]
  },
  {
   "cell_type": "code",
   "execution_count": null,
   "id": "af1c9c7d",
   "metadata": {},
   "outputs": [],
   "source": [
    "# Colores para cada autovector\n",
    "colores = ['red', 'green', 'blue']"
   ]
  },
  {
   "cell_type": "code",
   "execution_count": null,
   "id": "0e217fb0",
   "metadata": {},
   "outputs": [],
   "source": [
    "# Configuración de la figura\n",
    "fig = plt.figure(figsize=(8, 8))\n",
    "ax = fig.add_subplot(111, projection='3d')"
   ]
  },
  {
   "cell_type": "code",
   "execution_count": null,
   "id": "d4aa7b94",
   "metadata": {},
   "outputs": [],
   "source": [
    "# Graficar los autovectores como flechas\n",
    "for i in range(len(autovalores)):\n",
    "    ax.quiver(x0, y0, z0, autovectores[0, i], autovectores[1, i], autovectores[2, i],\n",
    "              arrow_length_ratio=0.1, color=colores[i], label=f'Autovalor {i+1}: {autovalores[i]:.2e}')"
   ]
  },
  {
   "cell_type": "code",
   "execution_count": null,
   "id": "8f8198ef",
   "metadata": {},
   "outputs": [],
   "source": [
    "# Marcar los puntos de intersección de los autovectores con los ejes\n",
    "ax.plot([0, autovectores[0, 0]], [0, autovectores[1, 0]], [0, autovectores[2, 0]], color='blue', linestyle='--', linewidth=1, alpha=0.7)\n",
    "ax.plot([0, autovectores[0, 1]], [0, autovectores[1, 1]], [0, autovectores[2, 1]], color='blue', linestyle='--', linewidth=1, alpha=0.7)"
   ]
  },
  {
   "cell_type": "code",
   "execution_count": null,
   "id": "7cb67faa",
   "metadata": {},
   "outputs": [],
   "source": [
    "# Configuración de los ejes\n",
    "ax.set_xlim(-1.2, 1.2)\n",
    "ax.set_ylim(-1.2, 1.2)\n",
    "ax.set_zlim(-1.2, 1.2)\n",
    "ax.set_xlabel('X')\n",
    "ax.set_ylabel('Y')\n",
    "ax.set_zlabel('Z')"
   ]
  },
  {
   "cell_type": "code",
   "execution_count": null,
   "id": "2c2c6904",
   "metadata": {},
   "outputs": [],
   "source": [
    "# Añadir leyenda\n",
    "ax.legend()"
   ]
  },
  {
   "cell_type": "code",
   "execution_count": null,
   "id": "2aca4aa8",
   "metadata": {},
   "outputs": [],
   "source": [
    "# Rejilla\n",
    "ax.grid(True)"
   ]
  },
  {
   "cell_type": "code",
   "execution_count": null,
   "id": "5e13b132",
   "metadata": {},
   "outputs": [],
   "source": [
    "plt.show()"
   ]
  },
  {
   "cell_type": "markdown",
   "id": "6fb7ffb3",
   "metadata": {},
   "source": [
    "----------------------------------------------------------------------------------------------------#"
   ]
  }
 ],
 "metadata": {
  "jupytext": {
   "cell_metadata_filter": "-all",
   "main_language": "python",
   "notebook_metadata_filter": "-all"
  }
 },
 "nbformat": 4,
 "nbformat_minor": 5
}
