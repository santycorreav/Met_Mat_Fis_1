{
 "cells": [
  {
   "cell_type": "code",
   "execution_count": null,
   "id": "61c89aec",
   "metadata": {},
   "outputs": [],
   "source": [
    "\"\"\"\n",
    "Asignación 3\n",
    "\n",
    "Métodos Matemáticos para Físicos I\n",
    "\n",
    "Profesor:\n",
    "Luis Nuñez\n",
    "\n",
    "Autores:\n",
    "Santiago Correa - 2182212 \n",
    "Jeicor Esneider Florez Pabón - 2231338\n",
    "Juan José Camacho Olmos - 2180800  \n",
    "\n",
    "\"\"\""
   ]
  },
  {
   "cell_type": "code",
   "execution_count": null,
   "id": "14ac7949",
   "metadata": {},
   "outputs": [],
   "source": [
    "import pandas as pd\n",
    "import string\n",
    "import matplotlib.pyplot as plt\n",
    "import numpy as np\n",
    "import csv\n",
    "import math"
   ]
  },
  {
   "cell_type": "markdown",
   "id": "265fec3a",
   "metadata": {},
   "source": [
    "----------------------------------------------------------------------------------------------------#"
   ]
  },
  {
   "cell_type": "code",
   "execution_count": null,
   "id": "5a1dd57a",
   "metadata": {},
   "outputs": [],
   "source": [
    "# Nombre del archivo CSV\n",
    "archivo_csv = 'gastos.csv'"
   ]
  },
  {
   "cell_type": "code",
   "execution_count": null,
   "id": "0bae96f7",
   "metadata": {},
   "outputs": [],
   "source": [
    "# Lista para almacenar todas las filas como listas\n",
    "filas = []"
   ]
  },
  {
   "cell_type": "code",
   "execution_count": null,
   "id": "25925405",
   "metadata": {},
   "outputs": [],
   "source": [
    "# Abrir el archivo CSV en modo lectura\n",
    "with open(archivo_csv, 'r', newline='', encoding='utf-8') as csv_file:\n",
    "    # Crear un objeto lector CSV\n",
    "    csv_reader = csv.reader(csv_file, delimiter=',')\n",
    "    \n",
    "    # Iterar sobre cada fila en el archivo CSV\n",
    "    for fila in csv_reader:\n",
    "        # Agregar la fila actual como lista a la lista de filas\n",
    "        filas.append(fila)"
   ]
  },
  {
   "cell_type": "markdown",
   "id": "99e2fbf1",
   "metadata": {},
   "source": [
    "----------------------------------------------------------------------------------------------------#"
   ]
  },
  {
   "cell_type": "code",
   "execution_count": null,
   "id": "3faa39f9",
   "metadata": {},
   "outputs": [],
   "source": [
    "# Sacamos de filas, cada información que necesitamos \n",
    "años = filas[0]\n",
    "años = [años[0], años[2]] + años[-16:]\n",
    "salud = filas[1]\n",
    "salud = [salud[0], salud[2]] + salud[-16:]\n",
    "investigacion = filas[2]\n",
    "investigacion = [investigacion[0], investigacion[2]] + investigacion[-16:]\n",
    "militar = filas[3]\n",
    "militar = [militar[0], militar[2]] + militar[-16:]\n",
    "educacion = filas[4]\n",
    "educacion = [educacion[0], educacion[2]] + educacion[-16:]"
   ]
  },
  {
   "cell_type": "code",
   "execution_count": null,
   "id": "0f805719",
   "metadata": {},
   "outputs": [],
   "source": []
  },
  {
   "cell_type": "code",
   "execution_count": null,
   "id": "c9eefcc7",
   "metadata": {},
   "outputs": [],
   "source": []
  },
  {
   "cell_type": "markdown",
   "id": "9bd623d3",
   "metadata": {},
   "source": [
    "print(años)"
   ]
  },
  {
   "cell_type": "markdown",
   "id": "ae0a77b5",
   "metadata": {},
   "source": [
    "----------------------------------------------------------------------------------------------------#"
   ]
  },
  {
   "cell_type": "markdown",
   "id": "a839a008",
   "metadata": {},
   "source": [
    "Creamos funcion que nos convierta a float"
   ]
  },
  {
   "cell_type": "code",
   "execution_count": null,
   "id": "f21bf2eb",
   "metadata": {
    "lines_to_next_cell": 1
   },
   "outputs": [],
   "source": [
    "def convertir_a_float(lista):\n",
    "    float_lista = []\n",
    "    for elemento in lista:\n",
    "        try:\n",
    "            numero_float = float(elemento)\n",
    "            float_lista.append(numero_float)\n",
    "        except ValueError:\n",
    "            continue\n",
    "    return float_lista"
   ]
  },
  {
   "cell_type": "code",
   "execution_count": null,
   "id": "9ced43e9",
   "metadata": {
    "lines_to_next_cell": 2
   },
   "outputs": [],
   "source": [
    "float_años = convertir_a_float(años)\n",
    "float_salud = convertir_a_float(salud)\n",
    "float_investigacion = convertir_a_float(investigacion)\n",
    "float_militar = convertir_a_float(militar)\n",
    "float_educacion = convertir_a_float(educacion)"
   ]
  },
  {
   "cell_type": "markdown",
   "id": "27a8689b",
   "metadata": {},
   "source": [
    "Matriz de datos en float"
   ]
  },
  {
   "cell_type": "code",
   "execution_count": null,
   "id": "98cec71d",
   "metadata": {},
   "outputs": [],
   "source": [
    "float_datos = [[float_salud],\n",
    "               [float_investigacion],\n",
    "               [float_militar],\n",
    "               [float_educacion]\n",
    "]"
   ]
  },
  {
   "cell_type": "code",
   "execution_count": null,
   "id": "8244a14c",
   "metadata": {},
   "outputs": [],
   "source": [
    "\"\"\"\n",
    "\n",
    "print(\"años:\",float_años)\n",
    "print(\"salud\",float_salud)\n",
    "print(\"investigacion\",float_investigacion)\n",
    "print(\"militar\",float_militar)\n",
    "print(\"educacion:\",float_educacion)\n",
    "\n",
    "\"\"\""
   ]
  },
  {
   "cell_type": "markdown",
   "id": "46457035",
   "metadata": {},
   "source": [
    "----------------------------------------------------------------------------------------------------#"
   ]
  },
  {
   "cell_type": "code",
   "execution_count": null,
   "id": "f5a300ff",
   "metadata": {},
   "outputs": [],
   "source": [
    "# Plot de todo\n",
    "plt.figure(num = 'Gŕaficas')\n",
    "plt.title(\"PIB gastado en Colombia\",color='blue',fontsize = '18')\n",
    "plt.xlabel(\"Años\",color='red',fontsize = '14')\n",
    "plt.ylabel(\"Dinero invertido\",color='black',fontsize = '14')\n",
    "plt.grid()\n",
    "plt.plot(float_años, float_salud,'go',label='(i)Salud')\n",
    "plt.plot(float_años, float_investigacion,'yo',label='(ii)Investigacion')\n",
    "plt.plot(float_años, float_militar,'mo',label='(iii)Militar')\n",
    "plt.plot(float_años, float_educacion,'co',label='(iv)Educacion')\n",
    "plt.legend()\n",
    "plt.savefig('graficas_PIB_colombia.png')"
   ]
  },
  {
   "cell_type": "markdown",
   "id": "4dfd3d4d",
   "metadata": {},
   "source": [
    "----------------------------------------------------------------------------------------------------#\n",
    "----------------------------------------------------------------------------------------------------#"
   ]
  },
  {
   "cell_type": "markdown",
   "id": "a898c18d",
   "metadata": {},
   "source": [
    "                                             INCISO A.1)"
   ]
  },
  {
   "cell_type": "markdown",
   "id": "a0f21c67",
   "metadata": {},
   "source": [
    "----------------------------------------------------------------------------------------------------#\n",
    "----------------------------------------------------------------------------------------------------#"
   ]
  },
  {
   "cell_type": "code",
   "execution_count": null,
   "id": "932ba130",
   "metadata": {},
   "outputs": [],
   "source": [
    "# Calcular las medias de Salud, Investigacion, Militar y Educacion\n",
    "media_salud = sum(float_salud) / len(float_salud)\n",
    "media_investigacion = sum(float_investigacion) / len(float_investigacion)\n",
    "media_militar = sum(float_militar) / len(float_militar)\n",
    "media_educacion = sum(float_educacion) / len(float_educacion)"
   ]
  },
  {
   "cell_type": "markdown",
   "id": "0e496b2d",
   "metadata": {},
   "source": [
    "----------------------------------------------------------------------------------------------------#"
   ]
  },
  {
   "cell_type": "markdown",
   "id": "8b830a18",
   "metadata": {},
   "source": [
    "Calculamos primero las varianzas de Salud (Var(S)), Investigacion (Var(I)), Militar (Var(M)) y Educacion (Var(E))"
   ]
  },
  {
   "cell_type": "code",
   "execution_count": null,
   "id": "82da8d6e",
   "metadata": {},
   "outputs": [],
   "source": [
    "# Calcular la covarianza entre Salud y Salud (Varianza de Salud, Var(S) )\n",
    "cov_S = sum((float_salud[i] - media_salud) * (float_salud[i] - media_salud) for i in range(len(float_salud))) / (len(float_salud) - 1)\n",
    "#print(\"La covarianza entre Salud y Salud, o varianza de Salud es:\", cov_S)"
   ]
  },
  {
   "cell_type": "code",
   "execution_count": null,
   "id": "cd5d0e71",
   "metadata": {},
   "outputs": [],
   "source": [
    "# Calcular la covarianza entre Investigacion e Investigacion (Varianza de Salud, Var(I) )\n",
    "cov_I = sum((float_investigacion[i] - media_investigacion) * (float_investigacion[i] - media_investigacion) for i in range(len(float_investigacion))) / (len(float_investigacion) - 1)\n",
    "#print(\"La covarianza entre Investigacion e Investigacion, o varianza de Investigacion es:\", cov_I)"
   ]
  },
  {
   "cell_type": "code",
   "execution_count": null,
   "id": "4a41b4ea",
   "metadata": {},
   "outputs": [],
   "source": [
    "# Calcular la covarianza entre Militar y Militar (Varianza de Salud, Var(M) )\n",
    "cov_M = sum((float_militar[i] - media_militar) * (float_militar[i] - media_militar) for i in range(len(float_militar))) / (len(float_militar) - 1)\n",
    "#print(\"La covarianza entre Militar y Militar, o varianza de Militar es:\", cov_M)"
   ]
  },
  {
   "cell_type": "code",
   "execution_count": null,
   "id": "ef47f549",
   "metadata": {},
   "outputs": [],
   "source": [
    "# Calcular la covarianza entre Educacion y Educacion (Varianza de Salud, Var(E) )\n",
    "cov_E = sum((float_educacion[i] - media_educacion) * (float_educacion[i] - media_educacion) for i in range(len(float_educacion))) / (len(float_educacion) - 1)\n",
    "#print(\"La covarianza entre Educacion y Educacion, o varianza de Educacion es:\", cov_E)"
   ]
  },
  {
   "cell_type": "markdown",
   "id": "e6cfed55",
   "metadata": {},
   "source": [
    "print(\" \")"
   ]
  },
  {
   "cell_type": "markdown",
   "id": "af8ae765",
   "metadata": {},
   "source": [
    "----------------------------------------------------------------------------------------------------#"
   ]
  },
  {
   "cell_type": "markdown",
   "id": "382f133e",
   "metadata": {},
   "source": [
    " Las covarianzas entre S/I, S/M, S/E "
   ]
  },
  {
   "cell_type": "code",
   "execution_count": null,
   "id": "a153fb72",
   "metadata": {},
   "outputs": [],
   "source": [
    "# Calcular la covarianza entre Salud e Investigacion (S/I)\n",
    "cov_S_I = sum((float_salud[i] - media_salud) * (float_investigacion[i] - media_investigacion) for i in range(len(float_salud))) / (len(float_salud) - 1)\n",
    "#print(\"La covarianza entre Salud e Investigacion es:\", cov_S_I)\n",
    "cov_I_S = cov_S_I"
   ]
  },
  {
   "cell_type": "code",
   "execution_count": null,
   "id": "8d772eb2",
   "metadata": {},
   "outputs": [],
   "source": [
    "# Calcular la covarianza entre Salud y Militar (S/M)\n",
    "cov_S_M = sum((float_salud[i] - media_salud) * (float_militar[i] - media_militar) for i in range(len(float_salud))) / (len(float_salud) - 1)\n",
    "#print(\"La covarianza entre Salud y Militar es:\", cov_S_M)\n",
    "cov_M_S = cov_S_M"
   ]
  },
  {
   "cell_type": "code",
   "execution_count": null,
   "id": "e7b20bfd",
   "metadata": {},
   "outputs": [],
   "source": [
    "# Calcular la covarianza entre Salud y Educacion (S/E)\n",
    "cov_S_E = sum((float_salud[i] - media_salud) * (float_educacion[i] - media_educacion) for i in range(len(float_salud))) / (len(float_salud) - 1)\n",
    "#print(\"La covarianza entre Salud y Educacion es:\", cov_S_E)\n",
    "cov_E_S = cov_S_E"
   ]
  },
  {
   "cell_type": "markdown",
   "id": "bcbcabbc",
   "metadata": {},
   "source": [
    "print(\" \")"
   ]
  },
  {
   "cell_type": "markdown",
   "id": "80cd1e1c",
   "metadata": {},
   "source": [
    "----------------------------------------------------------------------------------------------------#"
   ]
  },
  {
   "cell_type": "markdown",
   "id": "87301ff8",
   "metadata": {},
   "source": [
    "Las covarianzas entre M/I, E/I, E/M"
   ]
  },
  {
   "cell_type": "code",
   "execution_count": null,
   "id": "0bbe8203",
   "metadata": {},
   "outputs": [],
   "source": [
    "# Calcular la covarianza entre Militar e Investigacion (M/I)\n",
    "cov_M_I = sum((float_militar[i] - media_militar) * (float_investigacion[i] - media_investigacion) for i in range(len(float_militar))) / (len(float_militar) - 1)\n",
    "#print(\"La covarianza entre Militar e Investigacion:\", cov_M_I)\n",
    "cov_I_M = cov_M_I"
   ]
  },
  {
   "cell_type": "code",
   "execution_count": null,
   "id": "c56ec274",
   "metadata": {},
   "outputs": [],
   "source": [
    "# Calcular la covarianza entre Educacion e Investigacion (E/I)\n",
    "cov_E_I = sum((float_educacion[i] - media_educacion) * (float_investigacion[i] - media_investigacion) for i in range(len(float_educacion))) / (len(float_educacion) - 1)\n",
    "#print(\"La covarianza entre Educacion e Investigacion:\", cov_E_I)\n",
    "cov_I_E = cov_E_I"
   ]
  },
  {
   "cell_type": "code",
   "execution_count": null,
   "id": "e128b9c7",
   "metadata": {},
   "outputs": [],
   "source": [
    "# Calcular la covarianza entre Educacion y Militar (E/M)\n",
    "cov_E_M = sum((float_educacion[i] - media_educacion) * (float_militar[i] - media_militar) for i in range(len(float_educacion))) / (len(float_educacion) - 1)\n",
    "#print(\"La covarianza entre Educacion y Militar:\", cov_E_M)\n",
    "cov_M_E = cov_E_M"
   ]
  },
  {
   "cell_type": "markdown",
   "id": "d77b65de",
   "metadata": {},
   "source": [
    "print(\" \")"
   ]
  },
  {
   "cell_type": "markdown",
   "id": "bec117bf",
   "metadata": {},
   "source": [
    "----------------------------------------------------------------------------------------------------#"
   ]
  },
  {
   "cell_type": "markdown",
   "id": "da65e391",
   "metadata": {},
   "source": [
    "Entonces la matriz de covarianza es"
   ]
  },
  {
   "cell_type": "code",
   "execution_count": null,
   "id": "b7e1a1a2",
   "metadata": {},
   "outputs": [],
   "source": [
    "Matriz_Covarianza = [\n",
    "                    [cov_S, cov_S_I, cov_S_M, cov_S_E],\n",
    "                    [cov_I_S, cov_I, cov_I_M, cov_I_E],\n",
    "                    [cov_M_S, cov_M_I, cov_M, cov_M_E],\n",
    "                    [cov_E_S, cov_E_I, cov_E_M, cov_E]\n",
    "                        ]"
   ]
  },
  {
   "cell_type": "code",
   "execution_count": null,
   "id": "46a368ed",
   "metadata": {},
   "outputs": [],
   "source": [
    "print(\"Esta es la matriz de Covarianza:\")\n",
    "# Usar un bucle para imprimir cada fila en una nueva línea\n",
    "for k in Matriz_Covarianza:\n",
    "    print(k)"
   ]
  },
  {
   "cell_type": "code",
   "execution_count": null,
   "id": "d84a3235",
   "metadata": {},
   "outputs": [],
   "source": [
    "\"\"\"\n",
    "\n",
    "# Comparación de función covarianza creada con la integrada en Python\n",
    "\n",
    "# Crear una matriz con las listas\n",
    "datos = np.array([float_salud, float_investigacion, float_militar, float_educacion])\n",
    "\n",
    "# Calcular la matriz de covarianza\n",
    "covarianza_matriz = np.cov(datos)\n",
    "\n",
    "print(\"Matriz de Covarianza:\")\n",
    "print(covarianza_matriz)\n",
    "\n",
    "\"\"\""
   ]
  },
  {
   "cell_type": "markdown",
   "id": "badf12f6",
   "metadata": {},
   "source": [
    "----------------------------------------------------------------------------------------------------#\n",
    "----------------------------------------------------------------------------------------------------#"
   ]
  },
  {
   "cell_type": "markdown",
   "id": "bcd60339",
   "metadata": {},
   "source": [
    "                                             INCISO A.2)"
   ]
  },
  {
   "cell_type": "markdown",
   "id": "443aed89",
   "metadata": {
    "lines_to_next_cell": 2
   },
   "source": [
    "----------------------------------------------------------------------------------------------------#\n",
    "----------------------------------------------------------------------------------------------------#"
   ]
  },
  {
   "cell_type": "code",
   "execution_count": null,
   "id": "08e00e21",
   "metadata": {},
   "outputs": [],
   "source": [
    "# Calcular las desviaciones estándar de cada variable\n",
    "desviaciones_estandar = np.sqrt(np.diag(Matriz_Covarianza))"
   ]
  },
  {
   "cell_type": "code",
   "execution_count": null,
   "id": "54013211",
   "metadata": {},
   "outputs": [],
   "source": [
    "# Calcular la matriz de correlación\n",
    "matriz_correlacion = Matriz_Covarianza / np.outer(desviaciones_estandar, desviaciones_estandar)"
   ]
  },
  {
   "cell_type": "code",
   "execution_count": null,
   "id": "f640c1a3",
   "metadata": {
    "lines_to_next_cell": 2
   },
   "outputs": [],
   "source": [
    "# Imprimir la matriz de correlación\n",
    "print(\"Matriz de Correlación:\")\n",
    "print(matriz_correlacion)"
   ]
  },
  {
   "cell_type": "markdown",
   "id": "18eefdda",
   "metadata": {},
   "source": [
    "----------------------------------------------------------------------------------------------------#\n",
    "----------------------------------------------------------------------------------------------------#"
   ]
  },
  {
   "cell_type": "markdown",
   "id": "d4b3b97b",
   "metadata": {},
   "source": [
    "                                        INCISO B.1) y B.2)"
   ]
  },
  {
   "cell_type": "markdown",
   "id": "ac6bd39c",
   "metadata": {},
   "source": [
    "----------------------------------------------------------------------------------------------------#\n",
    "----------------------------------------------------------------------------------------------------#"
   ]
  },
  {
   "cell_type": "code",
   "execution_count": null,
   "id": "ac7fd018",
   "metadata": {},
   "outputs": [],
   "source": [
    "# Calcular autovalores y autovectores\n",
    "autovalores, autovectores = np.linalg.eig(Matriz_Covarianza)"
   ]
  },
  {
   "cell_type": "code",
   "execution_count": null,
   "id": "181a4d30",
   "metadata": {
    "lines_to_next_cell": 2
   },
   "outputs": [],
   "source": [
    "print(\" \")\n",
    "print(\"Autovalores:\")\n",
    "print(autovalores)\n",
    "print(\"\\nAutovectores:\")\n",
    "print(autovectores)"
   ]
  },
  {
   "cell_type": "markdown",
   "id": "9a9e79d6",
   "metadata": {},
   "source": [
    "----------------------------------------------------------------------------------------------------#\n",
    "----------------------------------------------------------------------------------------------------#"
   ]
  },
  {
   "cell_type": "markdown",
   "id": "21be7db8",
   "metadata": {},
   "source": [
    "                                             INCISO C)"
   ]
  },
  {
   "cell_type": "markdown",
   "id": "fe4a5dd9",
   "metadata": {},
   "source": [
    "----------------------------------------------------------------------------------------------------#\n",
    "----------------------------------------------------------------------------------------------------#"
   ]
  },
  {
   "cell_type": "markdown",
   "id": "dd851140",
   "metadata": {},
   "source": [
    "Matriz original"
   ]
  },
  {
   "cell_type": "code",
   "execution_count": null,
   "id": "50c91473",
   "metadata": {
    "lines_to_next_cell": 2
   },
   "outputs": [],
   "source": [
    "original = np.array(Matriz_Covarianza)\n",
    "#print(\"original\",type(original))"
   ]
  },
  {
   "cell_type": "code",
   "execution_count": null,
   "id": "86f8d89c",
   "metadata": {},
   "outputs": [],
   "source": [
    "# Obtener las dimensiones usando la propiedad shape\n",
    "tamaño = original.shape"
   ]
  },
  {
   "cell_type": "code",
   "execution_count": null,
   "id": "3e2b15b3",
   "metadata": {},
   "outputs": [],
   "source": [
    "# Imprimir las dimensiones\n",
    "print(\"tamaño matriz original:\",tamaño)"
   ]
  },
  {
   "cell_type": "code",
   "execution_count": null,
   "id": "63e57554",
   "metadata": {},
   "outputs": [],
   "source": [
    "\"\"\"\n",
    "\n",
    "# Redimensionar original para que tenga forma (4, 16)\n",
    "original = original.reshape(tamaño[0], tamaño[2])\n",
    "\n",
    "# Obtener las dimensiones usando la propiedad shape\n",
    "tamaño = original.shape\n",
    "\n",
    "# Imprimir las dimensiones\n",
    "print(\"tamaño matriz original:\",tamaño)\n",
    "\n",
    "\"\"\""
   ]
  },
  {
   "cell_type": "code",
   "execution_count": null,
   "id": "18b664ac",
   "metadata": {},
   "outputs": [],
   "source": [
    "# Construir la matriz de transformación P con los autovectores como columnas\n",
    "P = autovectores\n",
    "#print(\"P\",P)"
   ]
  },
  {
   "cell_type": "code",
   "execution_count": null,
   "id": "f683d481",
   "metadata": {},
   "outputs": [],
   "source": [
    "# Obtener las dimensiones usando la propiedad shape\n",
    "tamaño_P = P.shape"
   ]
  },
  {
   "cell_type": "code",
   "execution_count": null,
   "id": "fcd69ada",
   "metadata": {},
   "outputs": [],
   "source": [
    "# Imprimir las dimensiones\n",
    "print(\"tamaño P:\",tamaño_P)"
   ]
  },
  {
   "cell_type": "code",
   "execution_count": null,
   "id": "6d8c0a02",
   "metadata": {},
   "outputs": [],
   "source": [
    "# Calcular la matriz inversa de P\n",
    "P_inv = np.linalg.inv(P)\n",
    "#print(\"P inversa\",P_inv)"
   ]
  },
  {
   "cell_type": "code",
   "execution_count": null,
   "id": "b9f5af7d",
   "metadata": {},
   "outputs": [],
   "source": [
    "# Obtener las dimensiones usando la propiedad shape\n",
    "tamaño_P_inv = P_inv.shape"
   ]
  },
  {
   "cell_type": "code",
   "execution_count": null,
   "id": "81c91fe7",
   "metadata": {},
   "outputs": [],
   "source": [
    "# Imprimir las dimensiones\n",
    "print(\"tamaño P inversa:\",tamaño_P_inv)"
   ]
  },
  {
   "cell_type": "markdown",
   "id": "ae33f18f",
   "metadata": {},
   "source": [
    "print(\"P inv:\",type(P_inv))"
   ]
  },
  {
   "cell_type": "code",
   "execution_count": null,
   "id": "b3688644",
   "metadata": {},
   "outputs": [],
   "source": [
    "# Transformar A a la base de autovectores y autovalores\n",
    "original_transformado = np.dot(P_inv, original)\n",
    "original_transformado = np.dot(original_transformado, P)"
   ]
  },
  {
   "cell_type": "code",
   "execution_count": null,
   "id": "bab83557",
   "metadata": {
    "lines_to_next_cell": 2
   },
   "outputs": [],
   "source": [
    "print(\"\\nMatriz original en la base de autovectores y autovalores:\")\n",
    "print(original_transformado)"
   ]
  },
  {
   "cell_type": "markdown",
   "id": "20729ca4",
   "metadata": {},
   "source": [
    "----------------------------------------------------------------------------------------------------#"
   ]
  }
 ],
 "metadata": {
  "jupytext": {
   "cell_metadata_filter": "-all",
   "main_language": "python",
   "notebook_metadata_filter": "-all"
  }
 },
 "nbformat": 4,
 "nbformat_minor": 5
}
