{
 "cells": [
  {
   "cell_type": "code",
   "execution_count": null,
   "id": "5643765d",
   "metadata": {},
   "outputs": [],
   "source": [
    "\"\"\"\n",
    "Asignación 3\n",
    "\n",
    "Métodos Matemáticos para Físicos I\n",
    "\n",
    "Profesor:\n",
    "Luis Nuñez\n",
    "\n",
    "Autores:\n",
    "Santiago Correa - 2182212 \n",
    "Jeicor Esneider Florez Pabón - 2231338\n",
    "Juan José Camacho Olmos - 2180800  \n",
    "\n",
    "\"\"\""
   ]
  },
  {
   "cell_type": "code",
   "execution_count": null,
   "id": "443daf8c",
   "metadata": {},
   "outputs": [],
   "source": [
    "import pandas as pd\n",
    "import matplotlib.pyplot as plt\n",
    "import numpy as np"
   ]
  },
  {
   "cell_type": "code",
   "execution_count": null,
   "id": "38cf8ad4",
   "metadata": {},
   "outputs": [],
   "source": [
    "# Cargar los datos desde el archivo CSV con coma como delimitador\n",
    "data = pd.read_csv('datosmasas.csv', delimiter=',')"
   ]
  },
  {
   "cell_type": "code",
   "execution_count": null,
   "id": "309ea19d",
   "metadata": {},
   "outputs": [],
   "source": [
    "# Verificar las primeras filas del DataFrame para asegurarnos de que los datos se hayan cargado correctamente\n",
    "print(data.head())"
   ]
  },
  {
   "cell_type": "code",
   "execution_count": null,
   "id": "dd057b4a",
   "metadata": {},
   "outputs": [],
   "source": [
    "# Calcular la masa total del sistema\n",
    "masa_total = data['masas'].sum()"
   ]
  },
  {
   "cell_type": "markdown",
   "id": "bb9bb707",
   "metadata": {},
   "source": [
    "----------------------------------------------------------------------------------------------------#"
   ]
  },
  {
   "cell_type": "code",
   "execution_count": null,
   "id": "fab227b4",
   "metadata": {},
   "outputs": [],
   "source": [
    "# Calcular el centro de masa del sistema en coordenadas x e y\n",
    "centro_de_masa_x = (data['masas'] * data['x']).sum() / masa_total\n",
    "centro_de_masa_y = (data['masas'] * data['y']).sum() / masa_total"
   ]
  },
  {
   "cell_type": "code",
   "execution_count": null,
   "id": "3cd41359",
   "metadata": {},
   "outputs": [],
   "source": [
    "print(\"Masa total del sistema:\", masa_total)\n",
    "print(\"Centro de masa del sistema (coordenada x):\", centro_de_masa_x)\n",
    "print(\"Centro de masa del sistema (coordenada y):\", centro_de_masa_y)"
   ]
  },
  {
   "cell_type": "code",
   "execution_count": null,
   "id": "77e196e5",
   "metadata": {},
   "outputs": [],
   "source": [
    "# Calcular las coordenadas relativas al centro de masa\n",
    "data['x_cm'] = data['x'] - centro_de_masa_x\n",
    "data['y_cm'] = data['y'] - centro_de_masa_y"
   ]
  },
  {
   "cell_type": "code",
   "execution_count": null,
   "id": "f9b2c341",
   "metadata": {},
   "outputs": [],
   "source": [
    "# Calcular los elementos de la matriz del tensor momento de inercia en 2D\n",
    "Ixx = (data['masas'] * data['y_cm']**2).sum()\n",
    "Iyy = (data['masas'] * data['x_cm']**2).sum()\n",
    "Ixy = -(data['masas'] * data['x_cm'] * data['y_cm']).sum()"
   ]
  },
  {
   "cell_type": "markdown",
   "id": "95681972",
   "metadata": {},
   "source": [
    "----------------------------------------------------------------------------------------------------#"
   ]
  },
  {
   "cell_type": "code",
   "execution_count": null,
   "id": "c8d322c8",
   "metadata": {},
   "outputs": [],
   "source": [
    "# Construir la matriz del tensor momento de inercia\n",
    "tensor_momento_inercia_2D = np.array([[Ixx, Ixy], [Ixy, Iyy]])"
   ]
  },
  {
   "cell_type": "code",
   "execution_count": null,
   "id": "4e27b549",
   "metadata": {},
   "outputs": [],
   "source": [
    "# Calcular los autovalores y autovectores del tensor momento de inercia\n",
    "autovalores, autovectores = np.linalg.eig(tensor_momento_inercia_2D)"
   ]
  },
  {
   "cell_type": "code",
   "execution_count": null,
   "id": "2f85362a",
   "metadata": {},
   "outputs": [],
   "source": [
    "print(\"\\nCálculo del tensor momento de inercia en 2D\")\n",
    "print(\"Tensor momento de inercia en 2D:\")\n",
    "print(tensor_momento_inercia_2D)\n",
    "print(\"\\nAutovalores:\")\n",
    "print(autovalores)\n",
    "print(\"\\nAutovectores:\")\n",
    "print(autovectores)"
   ]
  },
  {
   "cell_type": "markdown",
   "id": "e876d15a",
   "metadata": {},
   "source": [
    "----------------------------------------------------------------------------------------------------#"
   ]
  },
  {
   "cell_type": "code",
   "execution_count": null,
   "id": "ead0c085",
   "metadata": {},
   "outputs": [],
   "source": [
    "# Extraer coordenadas x e y de las partículas y sus masas\n",
    "x = data['x']\n",
    "y = data['y']\n",
    "masas = data['masas']"
   ]
  },
  {
   "cell_type": "code",
   "execution_count": null,
   "id": "84c236e8",
   "metadata": {},
   "outputs": [],
   "source": [
    "# Calcular el centro de masa\n",
    "centro_x = np.sum(x * masas) / np.sum(masas)\n",
    "centro_y = np.sum(y * masas) / np.sum(masas)"
   ]
  },
  {
   "cell_type": "code",
   "execution_count": null,
   "id": "5a2da656",
   "metadata": {},
   "outputs": [],
   "source": [
    "# Escalar las masas para que sean visibles en la gráfica\n",
    "tamaño_puntos = 100 * masas / np.max(masas)  # Escalar el tamaño de los puntos según las masas"
   ]
  },
  {
   "cell_type": "code",
   "execution_count": null,
   "id": "04d83430",
   "metadata": {},
   "outputs": [],
   "source": [
    "# Graficar distribución de masas en el plano xy con puntos escalados y centro de masa\n",
    "plt.figure(figsize=(8, 6))\n",
    "plt.scatter(x, y, s=tamaño_puntos, color='blue', alpha=0.5)  # Puntos azules escalados por masa\n",
    "plt.scatter(centro_x, centro_y, marker='x', color='red', label='Centro de masa')  # Centro de masa\n",
    "plt.title('Distribución de masas en el plano xy con masas escaladas y centro de masa')\n",
    "plt.xlabel('Coordenada x')\n",
    "plt.ylabel('Coordenada y')\n",
    "plt.grid(True)\n",
    "plt.gca().set_aspect('equal', adjustable='box')  # Aspecto igual para ejes x y y\n",
    "plt.legend()\n",
    "plt.show()"
   ]
  },
  {
   "cell_type": "markdown",
   "id": "27b02f0a",
   "metadata": {},
   "source": [
    "----------------------------------------------------------------------------------------------------#"
   ]
  },
  {
   "cell_type": "code",
   "execution_count": null,
   "id": "ff2bd549",
   "metadata": {},
   "outputs": [],
   "source": [
    "# Definir los autovectores y autovalores\n",
    "autovectores = np.array([[0.70809967, 0.7061125], [-0.7061125, 0.70809967]])\n",
    "autovalores = np.array([1.87284938e9, 4.93463569e7])"
   ]
  },
  {
   "cell_type": "code",
   "execution_count": null,
   "id": "942ad636",
   "metadata": {},
   "outputs": [],
   "source": [
    "# Datos de los autovectores (puntos de inicio)\n",
    "x0 = 0\n",
    "y0 = 0"
   ]
  },
  {
   "cell_type": "code",
   "execution_count": null,
   "id": "fd79bd77",
   "metadata": {},
   "outputs": [],
   "source": [
    "# Colores para cada autovector\n",
    "colores = ['red', 'green']"
   ]
  },
  {
   "cell_type": "code",
   "execution_count": null,
   "id": "fdfa768f",
   "metadata": {},
   "outputs": [],
   "source": [
    "# Configuración de la figura\n",
    "fig, ax = plt.subplots(figsize=(8, 8))"
   ]
  },
  {
   "cell_type": "code",
   "execution_count": null,
   "id": "9d879bb5",
   "metadata": {},
   "outputs": [],
   "source": [
    "# Graficar los autovectores como flechas\n",
    "for i in range(len(autovalores)):\n",
    "    ax.quiver(x0, y0, autovectores[0, i], autovectores[1, i], angles='xy', scale_units='xy', scale=1, color=colores[i], label=f'Autovalor {i+1}: {autovalores[i]:.2e}')"
   ]
  },
  {
   "cell_type": "code",
   "execution_count": null,
   "id": "cb0d604f",
   "metadata": {},
   "outputs": [],
   "source": [
    "# Configuración de los ejes\n",
    "ax.set(xlim=(-1.2, 1.2), ylim=(-1.2, 1.2), aspect='equal')\n",
    "ax.spines['bottom'].set_position('zero')\n",
    "ax.spines['left'].set_position('zero')\n",
    "ax.spines['top'].set_visible(False)\n",
    "ax.spines['right'].set_visible(False)\n",
    "ax.set_xlabel('x', size=14, labelpad=-24, x=1.03)\n",
    "ax.set_ylabel('y', size=14, labelpad=-21, y=1.02, rotation=0)"
   ]
  },
  {
   "cell_type": "code",
   "execution_count": null,
   "id": "5e2cadc1",
   "metadata": {},
   "outputs": [],
   "source": [
    "# Marcar los puntos de intersección de los autovectores con los ejes\n",
    "for i in range(len(autovalores)):\n",
    "    ax.plot([0, autovectores[0, i]], [autovectores[1, i], autovectores[1, i]], color=colores[i], linestyle='--', linewidth=1, alpha=0.7)\n",
    "    ax.plot([autovectores[0, i], autovectores[0, i]], [0, autovectores[1, i]], color=colores[i], linestyle='--', linewidth=1, alpha=0.7)"
   ]
  },
  {
   "cell_type": "code",
   "execution_count": null,
   "id": "cbcb7b12",
   "metadata": {},
   "outputs": [],
   "source": [
    "# Etiquetas de los ejes\n",
    "ticks_frequency = 0.2\n",
    "x_ticks = np.arange(-1.2, 1.3, ticks_frequency)\n",
    "y_ticks = np.arange(-1.2, 1.3, ticks_frequency)\n",
    "ax.set_xticks(x_ticks[x_ticks != 0])\n",
    "ax.set_yticks(y_ticks[y_ticks != 0])"
   ]
  },
  {
   "cell_type": "code",
   "execution_count": null,
   "id": "466417f3",
   "metadata": {},
   "outputs": [],
   "source": [
    "# Rejilla\n",
    "ax.grid(which='both', color='grey', linewidth=1, linestyle='-', alpha=0.2)"
   ]
  },
  {
   "cell_type": "code",
   "execution_count": null,
   "id": "20bfb031",
   "metadata": {},
   "outputs": [],
   "source": [
    "# Leyenda\n",
    "ax.legend()"
   ]
  },
  {
   "cell_type": "code",
   "execution_count": null,
   "id": "45e25d86",
   "metadata": {},
   "outputs": [],
   "source": [
    "plt.show()"
   ]
  },
  {
   "cell_type": "markdown",
   "id": "4703b683",
   "metadata": {},
   "source": [
    "----------------------------------------------------------------------------------------------------#"
   ]
  }
 ],
 "metadata": {
  "jupytext": {
   "cell_metadata_filter": "-all",
   "main_language": "python",
   "notebook_metadata_filter": "-all"
  }
 },
 "nbformat": 4,
 "nbformat_minor": 5
}
